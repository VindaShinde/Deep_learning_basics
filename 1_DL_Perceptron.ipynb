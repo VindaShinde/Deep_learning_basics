{
  "nbformat": 4,
  "nbformat_minor": 0,
  "metadata": {
    "colab": {
      "name": "1_DL_Perceptron.ipynb",
      "provenance": [],
      "authorship_tag": "ABX9TyNalDrCKmaHTsqn5sbtSr5M",
      "include_colab_link": true
    },
    "kernelspec": {
      "name": "python3",
      "display_name": "Python 3"
    },
    "language_info": {
      "name": "python"
    }
  },
  "cells": [
    {
      "cell_type": "markdown",
      "metadata": {
        "id": "view-in-github",
        "colab_type": "text"
      },
      "source": [
        "<a href=\"https://colab.research.google.com/github/VindaShinde/Deep_learning_basics/blob/main/1_DL_Perceptron.ipynb\" target=\"_parent\"><img src=\"https://colab.research.google.com/assets/colab-badge.svg\" alt=\"Open In Colab\"/></a>"
      ]
    },
    {
      "cell_type": "code",
      "metadata": {
        "id": "-bwwT4wghfyK"
      },
      "source": [
        "import numpy as np\n",
        "from numpy import array, random, dot\n",
        "from random import choice"
      ],
      "execution_count": null,
      "outputs": []
    },
    {
      "cell_type": "code",
      "metadata": {
        "id": "jMdWglLQhlbr"
      },
      "source": [
        "activationFn = lambda x: 0 if x < 0 else 1 #step activation function"
      ],
      "execution_count": null,
      "outputs": []
    },
    {
      "cell_type": "code",
      "metadata": {
        "colab": {
          "base_uri": "https://localhost:8080/"
        },
        "id": "b2R2YrHOhxEo",
        "outputId": "5cc4e983-687a-4668-d292-8cf682c9c42f"
      },
      "source": [
        "dataset = [\n",
        "    (array ([0,0,1]), 0), #array (first 2 input values, 3rd value is bias, last is the output value for superwised learning)\n",
        "    (array ([0,1,1]), 1),\n",
        "    (array ([1,0,1]), 1),\n",
        "    (array ([1,1,1]), 1)\n",
        "    \n",
        "]\n",
        "print(dataset)"
      ],
      "execution_count": null,
      "outputs": [
        {
          "output_type": "stream",
          "name": "stdout",
          "text": [
            "[(array([0, 0, 1]), 0), (array([0, 1, 1]), 1), (array([1, 0, 1]), 1), (array([1, 1, 1]), 1)]\n"
          ]
        }
      ]
    },
    {
      "cell_type": "code",
      "metadata": {
        "colab": {
          "base_uri": "https://localhost:8080/"
        },
        "id": "didg4rrSiPYU",
        "outputId": "811ac929-65bc-45e6-d322-5b087f42ab45"
      },
      "source": [
        "#initializing Random number for WEIGHTS\n",
        "weights = random.rand(3);weights"
      ],
      "execution_count": null,
      "outputs": [
        {
          "output_type": "execute_result",
          "data": {
            "text/plain": [
              "array([0.01159978, 0.69452076, 0.216517  ])"
            ]
          },
          "metadata": {},
          "execution_count": 23
        }
      ]
    },
    {
      "cell_type": "code",
      "metadata": {
        "id": "TNbfiOyfjUcG"
      },
      "source": [
        "#initializing additional variables\n",
        "r = 0.2 # learning rate\n",
        "n = 100 # number of iterations"
      ],
      "execution_count": null,
      "outputs": []
    },
    {
      "cell_type": "code",
      "metadata": {
        "id": "sq7rh4pDjuiX"
      },
      "source": [
        "#training our model\n",
        "for j in range (n):\n",
        "  x, expected = choice(dataset) #random input set, includes repeated numbers\n",
        "  result = dot(weights,x) #dot product \n",
        "  err = expected - activationFn(result)\n",
        "  weights += r * err * x #calculate the correction factor, added to weights to improve output\n",
        "  # if the expected value is bigger, the weights should be increased and vise-versa"
      ],
      "execution_count": null,
      "outputs": []
    },
    {
      "cell_type": "code",
      "metadata": {
        "colab": {
          "base_uri": "https://localhost:8080/"
        },
        "id": "NsDTMQ0kkWe_",
        "outputId": "acf62db3-b865-498f-b5c6-12c85c088b47"
      },
      "source": [
        "for x, _ in dataset:\n",
        "  result = dot(x,weights)\n",
        "  print(\"Input:{} ResultBAFn:{} ResultAFn: {}\".format(x[:2], round(result,3), activationFn(result)))"
      ],
      "execution_count": null,
      "outputs": [
        {
          "output_type": "stream",
          "name": "stdout",
          "text": [
            "Input:[0 0] ResultBAFn:-0.183 ResultAFn: 0\n",
            "Input:[0 1] ResultBAFn:0.511 ResultAFn: 1\n",
            "Input:[1 0] ResultBAFn:0.028 ResultAFn: 1\n",
            "Input:[1 1] ResultBAFn:0.723 ResultAFn: 1\n"
          ]
        }
      ]
    },
    {
      "cell_type": "code",
      "metadata": {
        "id": "BqU_mNCvouS_"
      },
      "source": [
        ""
      ],
      "execution_count": null,
      "outputs": []
    }
  ]
}